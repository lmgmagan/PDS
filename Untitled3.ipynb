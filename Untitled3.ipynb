{
  "nbformat": 4,
  "nbformat_minor": 0,
  "metadata": {
    "colab": {
      "provenance": [],
      "authorship_tag": "ABX9TyPDuDkFeTb5YMkafpUy3qAD",
      "include_colab_link": true
    },
    "kernelspec": {
      "name": "python3",
      "display_name": "Python 3"
    },
    "language_info": {
      "name": "python"
    }
  },
  "cells": [
    {
      "cell_type": "markdown",
      "metadata": {
        "id": "view-in-github",
        "colab_type": "text"
      },
      "source": [
        "<a href=\"https://colab.research.google.com/github/lmgmagan/PDS/blob/main/Untitled3.ipynb\" target=\"_parent\"><img src=\"https://colab.research.google.com/assets/colab-badge.svg\" alt=\"Open In Colab\"/></a>"
      ]
    },
    {
      "cell_type": "code",
      "execution_count": 2,
      "metadata": {
        "id": "PxyTLloUSm0W"
      },
      "outputs": [],
      "source": [
        "import numpy as np\n",
        "import matplotlib.pyplot as plt"
      ]
    },
    {
      "cell_type": "markdown",
      "source": [],
      "metadata": {
        "id": "y2eJugg8Sqp1"
      }
    },
    {
      "cell_type": "markdown",
      "source": [
        "### Dibujando Señales Senoidales\n",
        "$x(t)=Acos(2π f_0 t)$"
      ],
      "metadata": {
        "id": "08gTsR-KS9Oj"
      }
    },
    {
      "cell_type": "code",
      "source": [],
      "metadata": {
        "id": "3nXI_JHuUOMA"
      },
      "execution_count": null,
      "outputs": []
    }
  ]
}